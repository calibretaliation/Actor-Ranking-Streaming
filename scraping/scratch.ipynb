{
 "cells": [
  {
   "cell_type": "code",
   "execution_count": 1,
   "metadata": {},
   "outputs": [
    {
     "name": "stdout",
     "output_type": "stream",
     "text": [
      "calibretaliation\n"
     ]
    },
    {
     "ename": "PermissionError",
     "evalue": "[Errno 1] Operation not permitted",
     "output_type": "error",
     "traceback": [
      "\u001b[0;31m---------------------------------------------------------------------------\u001b[0m",
      "\u001b[0;31mPermissionError\u001b[0m                           Traceback (most recent call last)",
      "Cell \u001b[0;32mIn [1], line 22\u001b[0m\n\u001b[1;32m     19\u001b[0m     os\u001b[39m.\u001b[39msetuid(get_gid(groupname))\n\u001b[1;32m     20\u001b[0m     \u001b[39mprint\u001b[39m(\u001b[39m\"\u001b[39m\u001b[39mcurrent user group id: \u001b[39m\u001b[39m\"\u001b[39m, get_gid(groupname))\n\u001b[0;32m---> 22\u001b[0m set_user(config\u001b[39m.\u001b[39mHADOOP_USER_NAME, config\u001b[39m.\u001b[39mHADOOP_USER_GROUP)\n",
      "Cell \u001b[0;32mIn [1], line 17\u001b[0m, in \u001b[0;36mset_user\u001b[0;34m(username, groupname)\u001b[0m\n\u001b[1;32m     16\u001b[0m \u001b[39mdef\u001b[39;00m \u001b[39mset_user\u001b[39m(username, groupname):\n\u001b[0;32m---> 17\u001b[0m     os\u001b[39m.\u001b[39;49msetgid(get_uid(username))\n\u001b[1;32m     18\u001b[0m     \u001b[39mprint\u001b[39m(\u001b[39m\"\u001b[39m\u001b[39mcurrent user id: \u001b[39m\u001b[39m\"\u001b[39m, get_uid(username))\n\u001b[1;32m     19\u001b[0m     os\u001b[39m.\u001b[39msetuid(get_gid(groupname))\n",
      "\u001b[0;31mPermissionError\u001b[0m: [Errno 1] Operation not permitted"
     ]
    }
   ],
   "source": [
    "import subprocess\n",
    "import config\n",
    "import pwd\n",
    "import os\n",
    "import grp\n",
    "p1 = subprocess.Popen([\"su - hadoop && echo $USER\"], shell=True)\n",
    "p2 = subprocess.Popen([\"echo $USER\"], shell=True)\n",
    "def get_uid(username):\n",
    "    uid = pwd.getpwnam(username)[2]\n",
    "    return uid\n",
    "\n",
    "def get_gid(groupname):\n",
    "    uid = grp.getgrnam(groupname)[2]\n",
    "    return uid\n",
    "\n",
    "def set_user(username, groupname):\n",
    "    os.setgid(get_uid(username))\n",
    "    print(\"current user id: \", get_uid(username))\n",
    "    os.setuid(get_gid(groupname))\n",
    "    print(\"current user group id: \", get_gid(groupname))\n",
    "\n",
    "set_user(config.HADOOP_USER_NAME, config.HADOOP_USER_GROUP)\n"
   ]
  },
  {
   "cell_type": "code",
   "execution_count": 3,
   "metadata": {},
   "outputs": [
    {
     "name": "stdout",
     "output_type": "stream",
     "text": [
      "1000\n",
      "1000\n"
     ]
    }
   ],
   "source": [
    "import os\n",
    "print(os.getuid())\n",
    "print(os.getgid())"
   ]
  },
  {
   "cell_type": "code",
   "execution_count": 5,
   "metadata": {},
   "outputs": [
    {
     "name": "stdout",
     "output_type": "stream",
     "text": [
      "1001\n"
     ]
    }
   ],
   "source": [
    "import pwd\n",
    "print(pwd.getpwnam('hadoop').pw_uid)\n"
   ]
  },
  {
   "cell_type": "code",
   "execution_count": null,
   "metadata": {},
   "outputs": [],
   "source": []
  },
  {
   "cell_type": "code",
   "execution_count": null,
   "metadata": {},
   "outputs": [],
   "source": []
  }
 ],
 "metadata": {
  "kernelspec": {
   "display_name": "Python 3.8.0 ('scraping')",
   "language": "python",
   "name": "python3"
  },
  "language_info": {
   "codemirror_mode": {
    "name": "ipython",
    "version": 3
   },
   "file_extension": ".py",
   "mimetype": "text/x-python",
   "name": "python",
   "nbconvert_exporter": "python",
   "pygments_lexer": "ipython3",
   "version": "3.8.0"
  },
  "orig_nbformat": 4,
  "vscode": {
   "interpreter": {
    "hash": "81499296b1c40e2471dd979eb8028552e6fcdc08f5ff9b7a80367e4976d1211d"
   }
  }
 },
 "nbformat": 4,
 "nbformat_minor": 2
}
