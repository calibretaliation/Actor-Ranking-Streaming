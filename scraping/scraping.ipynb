{
 "cells": [
  {
   "cell_type": "code",
   "execution_count": 1,
   "metadata": {
    "collapsed": true
   },
   "outputs": [
    {
     "name": "stderr",
     "output_type": "stream",
     "text": [
      "/tmp/ipykernel_55165/3328991321.py:22: DeprecationWarning: executable_path has been deprecated, please pass in a Service object\n",
      "  driver = webdriver.Chrome('/home/hung/Downloads/chromedriver', chrome_options=chrome_options)\n",
      "/tmp/ipykernel_55165/3328991321.py:22: DeprecationWarning: use options instead of chrome_options\n",
      "  driver = webdriver.Chrome('/home/hung/Downloads/chromedriver', chrome_options=chrome_options)\n"
     ]
    }
   ],
   "source": [
    "# export CHROMEDRIVER=~/chromedriver\n",
    "\n",
    "from linkedin_scraper import Person, actions\n",
    "from selenium import webdriver\n",
    "from selenium.webdriver.remote.webdriver import WebDriver\n",
    "from selenium import webdriver\n",
    "from selenium.webdriver.common.by import By\n",
    "from linkedin_scraper.objects import Experience, Education, Skill\n",
    "from selenium.common.exceptions import NoSuchElementException\n",
    "from selenium.webdriver.support.ui import WebDriverWait\n",
    "from selenium.webdriver.support import expected_conditions as EC\n",
    "import os\n",
    "from linkedin_scraper import selectors\n",
    "import posixpath\n",
    "import re\n",
    "\n",
    "# driver = webdriver.Chrome()\n",
    "chrome_options = webdriver.ChromeOptions()\n",
    "# prefs = {\"profile.managed_default_content_settings.images\": 2}\n",
    "# chrome_options.add_experimental_option(\"prefs\", prefs)\n",
    "\n",
    "driver = webdriver.Chrome('/home/hung/Downloads/chromedriver', chrome_options=chrome_options)\n",
    "\n",
    "email = \"tonic1307@gmail.com\"\n",
    "password = \"tonic13072001\"\n",
    "actions.login(driver, email, password) # if email and password isnt given, it'll prompt in terminal\n"
   ]
  },
  {
   "cell_type": "code",
   "execution_count": null,
   "metadata": {
    "collapsed": false
   },
   "outputs": [],
   "source": [
    "person_links = []\n",
    "for page in range(1,101):\n",
    "    base_url = f'https://www.linkedin.com/search/results/people/?geoUrn=%5B%22104195383%22%5D&origin=FACETED_SEARCH&page={page}'\n",
    "    driver.get(base_url)\n",
    "    _ = WebDriverWait(driver, 5).until(\n",
    "        EC.presence_of_element_located(\n",
    "            (\n",
    "                By.XPATH,\n",
    "                \"//*[@class='entity-result']\"\n",
    "            )\n",
    "        )\n",
    "    )\n",
    "\n",
    "    for person in driver.find_elements(By.XPATH, \"//*[@class='entity-result']\"):\n",
    "        try:\n",
    "            rawLink = person.find_element( By.XPATH, './/a').get_attribute('href')\n",
    "            link = re.search(r'([\\s\\S]+)\\?miniProfileUrn=', rawLink).group(1).strip()\n",
    "            person_links.append(link)\n",
    "        except:\n",
    "            continue\n",
    "\n",
    "\n",
    "person_links = (list(set(person_links)))\n",
    "\n",
    "with open('./data/savedlink', 'w') as f:\n",
    "    for link in person_links:\n",
    "        f.write(f'{link}\\n')"
   ]
  },
  {
   "cell_type": "code",
   "execution_count": 2,
   "metadata": {},
   "outputs": [],
   "source": [
    "with open('./data/savedlink') as f:\n",
    "    person_links = f.read().splitlines()"
   ]
  },
  {
   "cell_type": "code",
   "execution_count": 3,
   "metadata": {
    "collapsed": false
   },
   "outputs": [],
   "source": [
    "from linkedin_scraper.person import Person\n",
    "from pathlib import Path\n",
    "import jsonpickle\n",
    "# person = Person(linkedin_url=\"https://www.linkedin.com/in/andre-iguodala-65b48ab5\", driver=driver, close_on_complete=False)\n",
    "# person = Person(linkedin_url=\"https://www.linkedin.com/in/shell-huynh/\", driver=driver, close_on_complete=False)\n",
    "\n",
    "def scrape_person(linkedin_url:str, driver:WebDriver):\n",
    "    jsonpickle.set_encoder_options('json', ensure_ascii=False)\n",
    "    person = Person(linkedin_url=linkedin_url, driver=driver, close_on_complete=False)\n",
    "    # print(person)\n",
    "    result = jsonpickle.encode(person.data, unpicklable=False, indent=4, use_base85=True)\n",
    "    userid = Path(linkedin_url).name\n",
    "    with open(f'./data/{userid}.json', 'w') as f:\n",
    "        f.write(result)"
   ]
  },
  {
   "cell_type": "code",
   "execution_count": 3,
   "metadata": {},
   "outputs": [],
   "source": [
    "scrape_person(\"https://www.linkedin.com/in/shell-huynh/\", driver=driver)"
   ]
  },
  {
   "cell_type": "code",
   "execution_count": 4,
   "metadata": {},
   "outputs": [
    {
     "name": "stderr",
     "output_type": "stream",
     "text": [
      " 13%|█▎        | 131/985 [38:06<3:35:37, 15.15s/it]"
     ]
    },
    {
     "name": "stdout",
     "output_type": "stream",
     "text": [
      "you are not logged in!\n"
     ]
    },
    {
     "name": "stderr",
     "output_type": "stream",
     "text": [
      " 13%|█▎        | 131/985 [42:24<4:36:24, 19.42s/it]\n"
     ]
    },
    {
     "ename": "AttributeError",
     "evalue": "'Person' object has no attribute 'scrape_not_logged_in'",
     "output_type": "error",
     "traceback": [
      "\u001b[0;31m---------------------------------------------------------------------------\u001b[0m",
      "\u001b[0;31mAttributeError\u001b[0m                            Traceback (most recent call last)",
      "Cell \u001b[0;32mIn[4], line 3\u001b[0m\n\u001b[1;32m      1\u001b[0m \u001b[39mfrom\u001b[39;00m \u001b[39mtqdm\u001b[39;00m \u001b[39mimport\u001b[39;00m tqdm\n\u001b[1;32m      2\u001b[0m \u001b[39mfor\u001b[39;00m link \u001b[39min\u001b[39;00m tqdm(person_links):\n\u001b[0;32m----> 3\u001b[0m     scrape_person(link, driver)\n",
      "Cell \u001b[0;32mIn[3], line 9\u001b[0m, in \u001b[0;36mscrape_person\u001b[0;34m(linkedin_url, driver)\u001b[0m\n\u001b[1;32m      7\u001b[0m \u001b[39mdef\u001b[39;00m \u001b[39mscrape_person\u001b[39m(linkedin_url:\u001b[39mstr\u001b[39m, driver:WebDriver):\n\u001b[1;32m      8\u001b[0m     jsonpickle\u001b[39m.\u001b[39mset_encoder_options(\u001b[39m'\u001b[39m\u001b[39mjson\u001b[39m\u001b[39m'\u001b[39m, ensure_ascii\u001b[39m=\u001b[39m\u001b[39mFalse\u001b[39;00m)\n\u001b[0;32m----> 9\u001b[0m     person \u001b[39m=\u001b[39m Person(linkedin_url\u001b[39m=\u001b[39;49mlinkedin_url, driver\u001b[39m=\u001b[39;49mdriver, close_on_complete\u001b[39m=\u001b[39;49m\u001b[39mFalse\u001b[39;49;00m)\n\u001b[1;32m     10\u001b[0m     \u001b[39m# print(person)\u001b[39;00m\n\u001b[1;32m     11\u001b[0m     result \u001b[39m=\u001b[39m jsonpickle\u001b[39m.\u001b[39mencode(person\u001b[39m.\u001b[39mdata, unpicklable\u001b[39m=\u001b[39m\u001b[39mFalse\u001b[39;00m, indent\u001b[39m=\u001b[39m\u001b[39m4\u001b[39m, use_base85\u001b[39m=\u001b[39m\u001b[39mTrue\u001b[39;00m)\n",
      "File \u001b[0;32m~/LinkedIn-Analysis/scraping/linkedin_scraper/person.py:71\u001b[0m, in \u001b[0;36mPerson.__init__\u001b[0;34m(self, linkedin_url, name, about, experiences, educations, interests, accomplishments, company, job_title, contacts, skills, driver, get, scrape, close_on_complete)\u001b[0m\n\u001b[1;32m     68\u001b[0m \u001b[39mself\u001b[39m\u001b[39m.\u001b[39mdriver \u001b[39m=\u001b[39m driver\n\u001b[1;32m     70\u001b[0m \u001b[39mif\u001b[39;00m scrape:\n\u001b[0;32m---> 71\u001b[0m     \u001b[39mself\u001b[39;49m\u001b[39m.\u001b[39;49mscrape(close_on_complete)\n",
      "File \u001b[0;32m~/LinkedIn-Analysis/scraping/linkedin_scraper/person.py:107\u001b[0m, in \u001b[0;36mPerson.scrape\u001b[0;34m(self, close_on_complete)\u001b[0m\n\u001b[1;32m    104\u001b[0m \u001b[39mprint\u001b[39m(\u001b[39m\"\u001b[39m\u001b[39myou are not logged in!\u001b[39m\u001b[39m\"\u001b[39m)\n\u001b[1;32m    105\u001b[0m x \u001b[39m=\u001b[39m \u001b[39minput\u001b[39m(\n\u001b[1;32m    106\u001b[0m     \u001b[39m\"\u001b[39m\u001b[39mplease verify the capcha then press any key to continue...\u001b[39m\u001b[39m\"\u001b[39m)\n\u001b[0;32m--> 107\u001b[0m \u001b[39mself\u001b[39;49m\u001b[39m.\u001b[39;49mscrape_not_logged_in(close_on_complete\u001b[39m=\u001b[39mclose_on_complete)\n",
      "\u001b[0;31mAttributeError\u001b[0m: 'Person' object has no attribute 'scrape_not_logged_in'"
     ]
    }
   ],
   "source": [
    "from tqdm import tqdm\n",
    "for link in tqdm(person_links):\n",
    "    scrape_person(link, driver)"
   ]
  },
  {
   "cell_type": "code",
   "execution_count": null,
   "metadata": {},
   "outputs": [
    {
     "data": {
      "text/plain": [
       "'shell-huynh'"
      ]
     },
     "execution_count": 14,
     "metadata": {},
     "output_type": "execute_result"
    }
   ],
   "source": [
    "from pathlib import Path\n",
    "Path('https://www.linkedin.com/in/shell-huynh').name"
   ]
  },
  {
   "cell_type": "code",
   "execution_count": 4,
   "metadata": {},
   "outputs": [],
   "source": [
    "import jsonpickle\n",
    "import json\n",
    "jsonpickle.set_encoder_options('json', ensure_ascii=False)\n",
    "result = jsonpickle.encode(person.data, unpicklable=False, indent=4, use_base85=True)\n",
    "with open('new.json', 'w') as f:\n",
    "    f.write(result)\n",
    "\n",
    "# done = jsonpickle.decode()\n",
    "# json.dumps(done, indent=4)\n"
   ]
  },
  {
   "cell_type": "code",
   "execution_count": 13,
   "metadata": {},
   "outputs": [
    {
     "name": "stdout",
     "output_type": "stream",
     "text": [
      "Skill(name='Customer Service', tag='INDUSTRY-KNOWLEDGE')\n",
      "Skill(name='Sales', tag='INDUSTRY-KNOWLEDGE')\n",
      "Skill(name='Web Design', tag='INDUSTRY-KNOWLEDGE')\n",
      "Skill(name='Time Management', tag='INDUSTRY-KNOWLEDGE')\n",
      "Skill(name='Business Strategy', tag='INDUSTRY-KNOWLEDGE')\n",
      "Skill(name='Piano Playing', tag='INDUSTRY-KNOWLEDGE')\n",
      "Skill(name='ERD', tag='INDUSTRY-KNOWLEDGE')\n",
      "Skill(name='Quora', tag='INDUSTRY-KNOWLEDGE')\n",
      "Skill(name='Futures Trading', tag='INDUSTRY-KNOWLEDGE')\n",
      "Skill(name='Cost Management', tag='INDUSTRY-KNOWLEDGE')\n",
      "Skill(name='Dashboard Building', tag='INDUSTRY-KNOWLEDGE')\n",
      "Skill(name='Finance', tag='INDUSTRY-KNOWLEDGE')\n",
      "Skill(name='Presentation Skills', tag='INDUSTRY-KNOWLEDGE')\n",
      "Skill(name='Marketing', tag='INDUSTRY-KNOWLEDGE')\n",
      "Skill(name='Digital Marketing', tag='INDUSTRY-KNOWLEDGE')\n",
      "Skill(name='Data Analysis', tag='INDUSTRY-KNOWLEDGE')\n",
      "Skill(name='Business Analysis', tag='INDUSTRY-KNOWLEDGE')\n",
      "Skill(name='Business Intelligence (BI)', tag='INDUSTRY-KNOWLEDGE')\n",
      "Skill(name='SAP CRM', tag='INDUSTRY-KNOWLEDGE')\n",
      "Skill(name='SAP HANA', tag='INDUSTRY-KNOWLEDGE')\n",
      "Skill(name='Microsoft Office', tag='TOOLS-&-TECHNOLOGIES')\n",
      "Skill(name='WordPress', tag='TOOLS-&-TECHNOLOGIES')\n",
      "Skill(name='Oracle SQL Developer', tag='TOOLS-&-TECHNOLOGIES')\n",
      "Skill(name='Relational Databases', tag='TOOLS-&-TECHNOLOGIES')\n",
      "Skill(name='SQL', tag='TOOLS-&-TECHNOLOGIES')\n",
      "Skill(name='Java', tag='TOOLS-&-TECHNOLOGIES')\n",
      "Skill(name='Teamwork', tag='INTERPERSONAL-SKILLS')\n",
      "Skill(name='Management', tag='INTERPERSONAL-SKILLS')\n",
      "Skill(name='Leadership', tag='INTERPERSONAL-SKILLS')\n",
      "Skill(name='Strategic Planning', tag='INTERPERSONAL-SKILLS')\n",
      "Skill(name='Handle Multiple Priorities', tag='INTERPERSONAL-SKILLS')\n",
      "Skill(name='Analytical Skills', tag='INTERPERSONAL-SKILLS')\n",
      "Skill(name='Strategy', tag='INTERPERSONAL-SKILLS')\n",
      "Skill(name='Creative Problem Solving', tag='INTERPERSONAL-SKILLS')\n",
      "Skill(name='Communication', tag='INTERPERSONAL-SKILLS')\n",
      "Skill(name='Problem Solving', tag='INTERPERSONAL-SKILLS')\n"
     ]
    }
   ],
   "source": [
    "driver.get(posixpath.join(\"https://www.linkedin.com/in/shell-huynh/\", 'details', 'skills'))\n",
    "try:\n",
    "    _ = WebDriverWait(driver, 5).until(\n",
    "        EC.presence_of_element_located(\n",
    "            (\n",
    "                By.XPATH,\n",
    "                \"//*[contains(@id,'profilePagedListComponent')]\"\n",
    "            )\n",
    "        )\n",
    "    )\n",
    "except:\n",
    "    pass\n",
    "for tag in driver.find_elements(By.XPATH, \".//*[@class = 'pvs-tab__pill-choices']//child::button\"):\n",
    "    TAG = tag.text.strip().upper().replace(' ', '-')\n",
    "    if TAG == 'ALL':\n",
    "        continue\n",
    "    for skill_ele in driver.find_elements(By.XPATH, f\".//li[contains(@id,'{TAG[:5]}')]\"):\n",
    "        skill_name = skill_ele.find_element(\n",
    "            By.XPATH, \".//span[contains(@class, 't-bold')]//child::span[@class='visually-hidden']\").get_attribute('innerHTML')\n",
    "        name = re.search(r'>([\\s\\S]+)<', skill_name).group(1).strip()\n",
    "        skill = Skill(\n",
    "            name=name,\n",
    "            tag=TAG,\n",
    "        )\n",
    "        print(skill)"
   ]
  },
  {
   "cell_type": "code",
   "execution_count": 7,
   "metadata": {
    "collapsed": false
   },
   "outputs": [
    {
     "name": "stdout",
     "output_type": "stream",
     "text": [
      "Experience(institution_name='JD.COM', website='https://www.linkedin.com/company/1040979/', industry=None, type=None, headquarters=None, company_size=None, founded=None, from_date='Mar 2021', to_date='Present', description=None, position_title='Recruitment Manager', duration='1 yr 10 mos', location='Ho Chi Minh City, Vietnam', times='Full-time')\n",
      "Experience(institution_name='Freelance', website='https://www.linkedin.com/search/results/all/?keywords=Freelance', industry=None, type=None, headquarters=None, company_size=None, founded=None, from_date='Apr 2020', to_date='Feb 2021', description=None, position_title='Freelancer Headhunter', duration='11 mos', location='Ho Chi Minh City, Vietnam', times=None)\n",
      "Experience(institution_name='Kuehne+Nagel', website='https://www.linkedin.com/company/4536/', industry=None, type=None, headquarters=None, company_size=None, founded=None, from_date='Jan 2018', to_date='Mar 2020', description=None, position_title='Talent Acquisition Expert', duration='2 yrs 3 mos', location='Ho Chi Minh City, Vietnam', times='Full-time')\n",
      "Experience(institution_name='Toll Group', website='https://www.linkedin.com/company/457741/', industry=None, type=None, headquarters=None, company_size=None, founded=None, from_date='Apr 2012', to_date='Dec 2017', description=None, position_title='HR Recruitment & Training', duration='5 yrs 9 mos', location='Ho Chi Minh City, Vietnam', times=None)\n",
      "Experience(institution_name='Toll Group', website='https://www.linkedin.com/company/457741/', industry=None, type=None, headquarters=None, company_size=None, founded=None, from_date='Jan 2010', to_date='Apr 2012', description=None, position_title='HR C&B Executive', duration='2 yrs 4 mos', location='Ho Chi Minh City, Vietnam', times='Full-time')\n"
     ]
    }
   ],
   "source": [
    "from selenium import webdriver\n",
    "from selenium.webdriver.common.by import By\n",
    "from linkedin_scraper.objects import Experience, Education\n",
    "from selenium.common.exceptions import NoSuchElementException\n",
    "from selenium.webdriver.support.ui import WebDriverWait\n",
    "from selenium.webdriver.support import expected_conditions as EC\n",
    "import os\n",
    "from linkedin_scraper import selectors\n",
    "import posixpath\n",
    "\n",
    "driver.get(posixpath.join(\"https://www.linkedin.com/in/pha-pham-03747778/\", 'details', 'experience'))\n",
    "position = WebDriverWait(driver, 5).until(\n",
    "    EC.presence_of_element_located(\n",
    "        (\n",
    "            By.XPATH,\n",
    "            \"//*[contains(@id,'profilePagedListComponent')]\"\n",
    "        )\n",
    "    )\n",
    ")\n",
    "\n",
    "for position in driver.find_elements(By.XPATH, \"//*[contains(@id,'profilePagedListComponent') and not(contains(@id,'EXPERIENCE-VIEW-DETAILS-profilePositionGroup'))]\"):\n",
    "    sub_positions = position.find_elements( By.XPATH, \".//*[contains(@id,'profilePagedListComponent') and contains(@id,'EXPERIENCE-VIEW-DETAILS-profilePositionGroup')]\")\n",
    "    if len(sub_positions) > 0:\n",
    "        head = position.find_element(By.XPATH, \".//a[contains(@class, 'flex-column')]\")\n",
    "        company_name = head.find_element(By.XPATH, \".//*[contains(@class, 't-bold')]//child::span\").text.strip()\n",
    "        company_link = head.get_attribute('href')\n",
    "        try:\n",
    "            location = head.find_element(By.XPATH, \".//*[contains(@class, 't-black--light')]//child::span\").text.strip()\n",
    "        except:\n",
    "            location = None\n",
    "\n",
    "        for subPos in sub_positions:\n",
    "            head = subPos.find_element(By.XPATH, './/a')\n",
    "            position_title = head.find_element(By.XPATH, \".//*[contains(@class, 't-bold')]//child::span\").text.strip()\n",
    "            try:\n",
    "                times = head.find_element(By.XPATH, \".//*[contains(@class, 't-normal') and not(contains(@class, 't-black--light'))]//child::span\").text.strip()\n",
    "            except:\n",
    "                times = None\n",
    "\n",
    "            try:\n",
    "                side_details = head.find_elements(\n",
    "                    By.XPATH, \".//span[contains(@class, 't-black--light')]//child::span\")\n",
    "                date, duration = [t.strip()\n",
    "                                    for t in side_details[0].text.strip().split('·')]\n",
    "                from_date, to_date = [t.strip() for t in date.split('-')]\n",
    "            except:\n",
    "                from_date = None\n",
    "                to_date = None\n",
    "                duration = None\n",
    "\n",
    "            try: \n",
    "                description = subPos.find_element( By.XPATH, \".//*[@class='pvs-list__outer-container']\").text.strip() \n",
    "            except: \n",
    "                description = None\n",
    "\n",
    "\n",
    "            experience = Experience(\n",
    "                position_title=position_title,\n",
    "                from_date=from_date,\n",
    "                to_date=to_date,\n",
    "                duration=duration,\n",
    "                location=location,\n",
    "                times=times,\n",
    "                description=description,\n",
    "                website=company_link,\n",
    "                institution_name=company_name,\n",
    "            )\n",
    "            print(experience)\n",
    "        continue\n",
    "\n",
    "    try:\n",
    "        position_title = position.find_element(\n",
    "            By.XPATH, \".//*[contains(@class, 't-bold')]//child::span\").text.strip()\n",
    "    except:\n",
    "        continue\n",
    "\n",
    "    details = position.find_elements(\n",
    "        By.XPATH, \".//*[contains(@class, 't-normal')]//child::span\")\n",
    "\n",
    "    side_details = position.find_elements(\n",
    "        By.XPATH, \".//span[contains(@class, 't-black--light')]//child::span\")\n",
    "\n",
    "    try:\n",
    "        l = details[0].text.strip()\n",
    "        i = l.index('·')\n",
    "        company_name, times = l[:i].strip(), l[i+1:].strip()\n",
    "    except:\n",
    "        company_name = details[0].text.strip()\n",
    "        times = None\n",
    "\n",
    "    try:\n",
    "        date, duration = [t.strip()\n",
    "                            for t in side_details[0].text.strip().split('·')]\n",
    "        from_date, to_date = [t.strip() for t in date.split('-')]\n",
    "    except:\n",
    "        from_date = None\n",
    "        to_date = None\n",
    "        duration = None\n",
    "\n",
    "    try:\n",
    "        location = side_details[2].text.strip()\n",
    "    except:\n",
    "        location = None\n",
    "\n",
    "    try:\n",
    "        company_link = position.find_element(\n",
    "            By.XPATH, './/a').get_attribute('href')\n",
    "    except:\n",
    "        company_link = None\n",
    "\n",
    "    try:\n",
    "        description = position.find_element(\n",
    "            By.XPATH, \".//*[@class='pvs-list__outer-container']\").text.strip()\n",
    "    except:\n",
    "        description = None\n",
    "\n",
    "    experience = Experience(\n",
    "        position_title=position_title,\n",
    "        from_date=from_date,\n",
    "        to_date=to_date,\n",
    "        duration=duration,\n",
    "        location=location,\n",
    "        times=times,\n",
    "        description=description,\n",
    "        website=company_link,\n",
    "        institution_name=company_name,\n",
    "    )\n",
    "    print(experience)"
   ]
  },
  {
   "cell_type": "code",
   "execution_count": 9,
   "metadata": {},
   "outputs": [
    {
     "name": "stdout",
     "output_type": "stream",
     "text": [
      "Experience(institution_name='Phuoc Thanh steel factory', website='https://www.linkedin.com/search/results/all/?keywords=Phuoc+Thanh+steel+factory', industry=None, type=None, headquarters=None, company_size=None, founded=None, from_date='2015', to_date='2016', description='- Meet sales target at 100% in first year.\\n- Retained a corporate customer providing the annual income of 5 billion VND.\\n- Created a database of 50 corporate customers who normally generating billions income for the company.\\n- Brought about 20% increase on overall sales.\\n- Meet sales target at 100% in first year. - Retained a corporate customer providing the annual income of 5 billion VND. - Created a database of 50 corporate customers who normally generating billions income for the company. - Brought about 20% increase on overall sales.', position_title='Salesperson', duration='1 yr', location='2015 - 2016 · 1 yr', times=None)\n"
     ]
    }
   ],
   "source": [
    "print(experience)"
   ]
  }
 ],
 "metadata": {
  "kernelspec": {
   "display_name": "venv",
   "language": "python",
   "name": "python3"
  },
  "language_info": {
   "codemirror_mode": {
    "name": "ipython",
    "version": 3
   },
   "file_extension": ".py",
   "mimetype": "text/x-python",
   "name": "python",
   "nbconvert_exporter": "python",
   "pygments_lexer": "ipython3",
   "version": "3.10.6"
  },
  "vscode": {
   "interpreter": {
    "hash": "101a3afa6278cd264bbb2e8f63625e77a93374e6605ce7f77a4a263f33ac8815"
   }
  }
 },
 "nbformat": 4,
 "nbformat_minor": 0
}
